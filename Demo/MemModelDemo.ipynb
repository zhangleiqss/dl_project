{
 "cells": [
  {
   "cell_type": "code",
   "execution_count": 1,
   "metadata": {},
   "outputs": [],
   "source": [
    "import os\n",
    "import pprint\n",
    "import tensorflow as tf\n",
    "import math\n",
    "import time\n",
    "\n",
    "import random\n",
    "import numpy as np\n",
    "from past.builtins import xrange\n",
    "\n",
    "from data import read_data\n",
    "import sys\n",
    "sys.path.append('../tfmodels')\n",
    "from memory_model import *\n",
    "\n"
   ]
  },
  {
   "cell_type": "code",
   "execution_count": 2,
   "metadata": {
    "scrolled": true
   },
   "outputs": [
    {
     "name": "stdout",
     "output_type": "stream",
     "text": [
      "Read 929589 words from data/ptb.train.txt\n",
      "Read 73760 words from data/ptb.valid.txt\n",
      "Read 82430 words from data/ptb.test.txt\n"
     ]
    }
   ],
   "source": [
    "data_dir = 'data'\n",
    "data_name = 'ptb'\n",
    "checkpoint_dir = 'checkpoints'\n",
    "\n",
    "count = []\n",
    "word2idx = {}\n",
    "\n",
    "if not os.path.exists(checkpoint_dir):\n",
    "    os.makedirs(checkpoint_dir)\n",
    "\n",
    "train_data = read_data('%s/%s.train.txt' % (data_dir, data_name), count, word2idx)\n",
    "valid_data = read_data('%s/%s.valid.txt' % (data_dir, data_name), count, word2idx)\n",
    "test_data = read_data('%s/%s.test.txt' % (data_dir, data_name), count, word2idx)\n",
    "\n",
    "idx2word = dict(zip(word2idx.values(), word2idx.keys()))\n",
    "nwords = len(word2idx)\n"
   ]
  },
  {
   "cell_type": "code",
   "execution_count": 3,
   "metadata": {
    "collapsed": true
   },
   "outputs": [],
   "source": [
    "maxlen = 100\n",
    "train_samples = len(range(0, len(train_data) - maxlen, 1))\n",
    "valid_samples = len(range(0, len(valid_data) - maxlen, 1))\n",
    "samples = train_samples+valid_samples\n",
    "idxs = np.arange(0, samples)\n",
    "train_idxs = idxs[0:train_samples]\n",
    "test_idxs = idxs[train_samples:]\n",
    "previous_words = np.empty(shape=(samples, maxlen), dtype=np.int32)\n",
    "next_words = np.empty(shape=(samples), dtype=np.int32)\n",
    "global_step = 0\n",
    "\n",
    "for i in range(0, len(train_data) - maxlen, 1):\n",
    "    previous_words[global_step] = train_data[i: i + maxlen]\n",
    "    next_words[global_step] = train_data[i + maxlen]\n",
    "    global_step += 1\n",
    "\n",
    "for i in range(0, len(valid_data) - maxlen, 1):\n",
    "    previous_words[global_step] = valid_data[i: i + maxlen]\n",
    "    next_words[global_step] = valid_data[i + maxlen]\n",
    "    global_step += 1\n"
   ]
  },
  {
   "cell_type": "code",
   "execution_count": 4,
   "metadata": {},
   "outputs": [],
   "source": [
    "flags = tf.app.flags\n",
    "\n",
    "flags.DEFINE_integer(\"nb_words\", nwords, \"term number in input sequence(zero mask)\")\n",
    "flags.DEFINE_integer(\"mem_size\",maxlen, \"the memory length of input sequence\")\n",
    "flags.DEFINE_integer(\"nhop\", 6, \"the number of hop layers\")\n",
    "flags.DEFINE_integer(\"embedding_size\", 150, \"word embedding size\")\n",
    "flags.DEFINE_float(\"init_hid\", 0.1, \"init_hid for q\")\n",
    "flags.DEFINE_float(\"init_std\", 0.05, \"init_std for training variable\")\n",
    "\n",
    "flags.DEFINE_float(\"linear_ratio\", 0.5, \"keep probability of drop out [0.9]\")\n",
    "flags.DEFINE_float(\"learning_rate\", 0.001, \"learning rate [0.001]\")\n",
    "flags.DEFINE_integer(\"batch_size\", 1024, \"batch size to use during training [128]\")\n",
    "flags.DEFINE_float(\"clip_gradients\", 50.0, \"clip gradients to this norm\")\n",
    "flags.DEFINE_integer(\"n_epochs\", 100, \"number of epoch to use during training\")\n",
    "flags.DEFINE_boolean(\"epoch_save\", False, \"save checkpoint or not in each epoch\")\n",
    "flags.DEFINE_integer(\"print_step\", 500, \"print step duraing training [100]\")\n",
    "flags.DEFINE_string(\"logs_dir\", \"logs/\", \"logs directory [logs/]\")\n",
    "flags.DEFINE_string(\"model_dir\", \"model/\", \"model directory [model/]\")\n",
    "flags.DEFINE_boolean(\"dir_clear\", False, \"clear the log and model directory\")\n",
    "flags.DEFINE_boolean(\"lr_annealing\", True, \"use lr annealing or not after each epoch [False]\")\n",
    "flags.DEFINE_integer(\"gpu_id\", 0, \"default gpu id [0]\")\n",
    "flags.DEFINE_integer(\"gpu_num\", 4, \"gpu_num\")\n",
    "\n",
    "FLAGS = flags.FLAGS\n"
   ]
  },
  {
   "cell_type": "code",
   "execution_count": 7,
   "metadata": {
    "scrolled": false
   },
   "outputs": [
    {
     "name": "stdout",
     "output_type": "stream",
     "text": [
      "Initializing\n"
     ]
    },
    {
     "data": {
      "text/html": [
       "<div>\n",
       "<table border=\"1\" class=\"dataframe\">\n",
       "  <thead>\n",
       "    <tr style=\"text-align: right;\">\n",
       "      <th></th>\n",
       "      <th>variable_name</th>\n",
       "      <th>variable_shape</th>\n",
       "      <th>parameters</th>\n",
       "    </tr>\n",
       "  </thead>\n",
       "  <tbody>\n",
       "    <tr>\n",
       "      <th>0</th>\n",
       "      <td>global/Variable:0</td>\n",
       "      <td>[]</td>\n",
       "      <td>1.0</td>\n",
       "    </tr>\n",
       "    <tr>\n",
       "      <th>1</th>\n",
       "      <td>gpu/memory/Ain_c/embedding_table:0</td>\n",
       "      <td>[10000, 150]</td>\n",
       "      <td>1500000.0</td>\n",
       "    </tr>\n",
       "    <tr>\n",
       "      <th>2</th>\n",
       "      <td>gpu/memory/Ain_t/W:0</td>\n",
       "      <td>[100, 150]</td>\n",
       "      <td>15000.0</td>\n",
       "    </tr>\n",
       "    <tr>\n",
       "      <th>3</th>\n",
       "      <td>gpu/memory/Cin_c/embedding_table:0</td>\n",
       "      <td>[10000, 150]</td>\n",
       "      <td>1500000.0</td>\n",
       "    </tr>\n",
       "    <tr>\n",
       "      <th>4</th>\n",
       "      <td>gpu/memory/Cin_t/W:0</td>\n",
       "      <td>[100, 150]</td>\n",
       "      <td>15000.0</td>\n",
       "    </tr>\n",
       "    <tr>\n",
       "      <th>5</th>\n",
       "      <td>gpu/momory_hops/hops_h/W:0</td>\n",
       "      <td>[150, 150]</td>\n",
       "      <td>22500.0</td>\n",
       "    </tr>\n",
       "    <tr>\n",
       "      <th>6</th>\n",
       "      <td>gpu/prediction/fc/W:0</td>\n",
       "      <td>[150, 10000]</td>\n",
       "      <td>1500000.0</td>\n",
       "    </tr>\n",
       "  </tbody>\n",
       "</table>\n",
       "</div>"
      ],
      "text/plain": [
       "                        variable_name variable_shape  parameters\n",
       "0                   global/Variable:0             []         1.0\n",
       "1  gpu/memory/Ain_c/embedding_table:0   [10000, 150]   1500000.0\n",
       "2                gpu/memory/Ain_t/W:0     [100, 150]     15000.0\n",
       "3  gpu/memory/Cin_c/embedding_table:0   [10000, 150]   1500000.0\n",
       "4                gpu/memory/Cin_t/W:0     [100, 150]     15000.0\n",
       "5          gpu/momory_hops/hops_h/W:0     [150, 150]     22500.0\n",
       "6               gpu/prediction/fc/W:0   [150, 10000]   1500000.0"
      ]
     },
     "metadata": {},
     "output_type": "display_data"
    }
   ],
   "source": [
    "graph_to_use = tf.Graph()\n",
    "config = tf.ConfigProto(allow_soft_placement=True)\n",
    "config.gpu_options.allow_growth=True\n",
    "with tf.Session(graph=graph_to_use, config=config) as session:\n",
    "    mem_model = MemN2NModel(FLAGS, session)\n",
    "    mem_model.build_model()\n",
    "    mem_model.build_model_summary()\n",
    "    display(mem_model.model_summary())\n",
    "    #mem_model.run([previous_words,next_words], train_idxs, test_idxs)"
   ]
  }
 ],
 "metadata": {
  "kernelspec": {
   "display_name": "Python 2",
   "language": "python",
   "name": "python2"
  },
  "language_info": {
   "codemirror_mode": {
    "name": "ipython",
    "version": 2
   },
   "file_extension": ".py",
   "mimetype": "text/x-python",
   "name": "python",
   "nbconvert_exporter": "python",
   "pygments_lexer": "ipython2",
   "version": "2.7.13"
  }
 },
 "nbformat": 4,
 "nbformat_minor": 1
}
